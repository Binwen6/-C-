{
 "cells": [
  {
   "cell_type": "code",
   "execution_count": 1,
   "metadata": {},
   "outputs": [
    {
     "name": "stdout",
     "output_type": "stream",
     "text": [
      "Accuracy: 81.00%\n"
     ]
    },
    {
     "name": "stderr",
     "output_type": "stream",
     "text": [
      "d:\\ProgramData\\anaconda3\\envs\\pyTorchgpuEnv\\Lib\\site-packages\\xgboost\\core.py:160: UserWarning: [21:43:46] WARNING: C:\\buildkite-agent\\builds\\buildkite-windows-cpu-autoscaling-group-i-0b3782d1791676daf-1\\xgboost\\xgboost-ci-windows\\src\\c_api\\c_api.cc:1240: Saving into deprecated binary model format, please consider using `json` or `ubj`. Model format will default to JSON in XGBoost 2.2 if not specified.\n",
      "  warnings.warn(smsg, UserWarning)\n"
     ]
    }
   ],
   "source": [
    "import pandas as pd\n",
    "import xgboost as xgb\n",
    "from sklearn.model_selection import train_test_split\n",
    "from sklearn.metrics import accuracy_score\n",
    "\n",
    "# 加载数据\n",
    "df1 = pd.read_csv(\"data1.csv\")\n",
    "\n",
    "# 假设'X1'到'X24'是特征列，'Y(1=default, 0=non-default)'是标签列\n",
    "X = df1.loc[:, 'X1':'X24']  # 选择特征列\n",
    "y = df1['Y(1=default, 0=non-default)']  # 选择标签列\n",
    "\n",
    "# 划分训练集和测试集\n",
    "X_train, X_test, y_train, y_test = train_test_split(X, y, test_size=0.2, random_state=42)\n",
    "\n",
    "# 将pandas DataFrame转换为DMatrix格式，这是XGBoost的专用格式\n",
    "dtrain = xgb.DMatrix(X_train, label=y_train)\n",
    "dtest = xgb.DMatrix(X_test, label=y_test)\n",
    "\n",
    "# 设置XGBoost的参数\n",
    "params = {\n",
    "    'max_depth': 3,  # 树的深度\n",
    "    'eta': 0.3,  # 学习率\n",
    "    'objective': 'binary:logistic',  # 因为是二分类问题\n",
    "    'eval_metric': 'logloss'  # 评估指标，这里使用对数损失\n",
    "}\n",
    "\n",
    "# 训练模型\n",
    "num_round = 100  # 训练轮数\n",
    "bst = xgb.train(params, dtrain, num_round)\n",
    "\n",
    "# 使用训练好的模型进行预测\n",
    "y_pred = bst.predict(dtest)\n",
    "# 因为XGBoost输出的是概率值，我们需要将概率转换为二分类结果\n",
    "y_pred_class = [1 if x > 0.5 else 0 for x in y_pred]\n",
    "\n",
    "# 计算准确率\n",
    "accuracy = accuracy_score(y_test, y_pred_class)\n",
    "print(f\"Accuracy: {accuracy:.2%}\")\n",
    "\n",
    "# 如果你想要保存模型以便后续使用\n",
    "bst.save_model('xgb_model.model')\n",
    "\n",
    "# 如果你想要加载模型进行预测\n",
    "# loaded_model = xgb.Booster()\n",
    "# loaded_model.load_model('xgb_model.model')\n",
    "# predictions_on_new_data = loaded_model.predict(new_data_dmatrix)"
   ]
  }
 ],
 "metadata": {
  "kernelspec": {
   "display_name": "pyTorchgpuEnv",
   "language": "python",
   "name": "python3"
  },
  "language_info": {
   "codemirror_mode": {
    "name": "ipython",
    "version": 3
   },
   "file_extension": ".py",
   "mimetype": "text/x-python",
   "name": "python",
   "nbconvert_exporter": "python",
   "pygments_lexer": "ipython3",
   "version": "3.11.7"
  }
 },
 "nbformat": 4,
 "nbformat_minor": 2
}
