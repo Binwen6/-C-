{
 "cells": [
  {
   "cell_type": "code",
   "execution_count": 4,
   "metadata": {},
   "outputs": [
    {
     "name": "stdout",
     "output_type": "stream",
     "text": [
      "df1列名:\n",
      "Index(['X1', 'X2', 'X3', 'X4', 'X5', 'X6', 'X7', 'X8', 'X9', 'X10', 'X11',\n",
      "       'X12', 'X13', 'X14', 'X15', 'X16', 'X17', 'X18', 'X19', 'X20', 'X21',\n",
      "       'X22', 'X23', 'X24', 'Y(1=default, 0=non-default)'],\n",
      "      dtype='object')\n",
      "\n",
      "df2列名:\n",
      "Index(['X1', 'X2', 'X3', 'X4', 'X5', 'X6', 'X7', 'X8', 'X9', 'X10', 'X11',\n",
      "       'X12', 'X13', 'X14', 'Y(1=default, 0=non-default)'],\n",
      "      dtype='object')\n"
     ]
    }
   ],
   "source": [
    "import pandas as pd\n",
    "\n",
    "# 加载数据\n",
    "df1 = pd.read_csv(\"data1.csv\")\n",
    "df2 = pd.read_csv(\"data2.csv\")\n",
    "\n",
    "# 打印df1的所有列名\n",
    "print(\"df1列名:\")\n",
    "print(df1.columns)\n",
    "\n",
    "# 打印df2的所有列名\n",
    "print(\"\\ndf2列名:\")\n",
    "print(df2.columns)\n",
    "df1 = pd.read_csv(\"data1.csv\")\n",
    "df2 = pd.read_csv(\"data2.csv\")"
   ]
  },
  {
   "cell_type": "code",
   "execution_count": 5,
   "metadata": {},
   "outputs": [],
   "source": [
    "import pandas as pd\n",
    "from sklearn.model_selection import train_test_split, cross_val_score\n",
    "from sklearn.tree import DecisionTreeClassifier\n",
    "from sklearn.neighbors import KNeighborsClassifier\n",
    "from sklearn.ensemble import RandomForestClassifier\n",
    "from sklearn.svm import SVC\n",
    "from sklearn.metrics import accuracy_score\n",
    "\n",
    "# 加载数据\n",
    "df1 = pd.read_csv(\"data1.csv\")\n",
    "df2 = pd.read_csv(\"data2.csv\")\n",
    "\n",
    "# 假设'x'列是输入特征，'y'列是输出标签\n",
    "# 注意：这里你需要将'x'和'y'替换为实际的列名\n",
    "# 假设'X1'到'X<n>'是特征列，'Y(1=default, 0=non-default)'是标签列\n",
    "\n",
    "# 对于df1\n",
    "X1 = df1.loc[:, 'X1':'X24']  # 选择从X1到X24的所有列作为特征\n",
    "y1 = df1['Y(1=default, 0=non-default)']  # 选择标签列\n",
    "\n",
    "# 对于df2\n",
    "X2 = df2.loc[:, 'X1':'X14']  # 选择从X1到X14的所有列作为特征（因为df2只有这些特征列）\n",
    "y2 = df2['Y(1=default, 0=non-default)']  # 选择标签列，与df1相同\n",
    "\n",
    "# 接下来的模型训练和评估步骤可以使用X1, y1, X2, y2作为输入和输出\n",
    "\n",
    "# 定义分类器\n",
    "classifiers = {\n",
    "    'DecisionTree': DecisionTreeClassifier(),\n",
    "    'KNN': KNeighborsClassifier(n_neighbors=5),\n",
    "    'RandomForest': RandomForestClassifier(n_estimators=100),\n",
    "    'SVM': SVC(kernel='linear', probability=True, random_state=42)\n",
    "}\n",
    "\n",
    "# 函数来训练和评估模型\n",
    "def train_and_evaluate_model(X, y, classifier_name, classifier):\n",
    "    scores = cross_val_score(classifier, X, y, cv=5, scoring='accuracy')\n",
    "    return scores.mean(), scores.std()\n",
    "\n",
    "# 对数据集df1进行评估\n",
    "results_df1 = {}\n",
    "for name, classifier in classifiers.items():\n",
    "    mean_score, std_score = train_and_evaluate_model(X1, y1, name, classifier)\n",
    "    results_df1[name] = (mean_score, std_score)\n",
    "\n",
    "# 对数据集df2进行评估\n",
    "results_df2 = {}\n",
    "for name, classifier in classifiers.items():\n",
    "    mean_score, std_score = train_and_evaluate_model(X2, y2, name, classifier)\n",
    "    results_df2[name] = (mean_score, std_score)\n",
    "\n",
    "# 打印结果\n",
    "print(\"Dataset 1 (df1) Results:\")\n",
    "for name, (mean, std) in results_df1.items():\n",
    "    print(f\"{name}: Mean Accuracy = {mean:.3f} (+/- {std:.3f})\")\n",
    "\n",
    "print(\"\\nDataset 2 (df2) Results:\")\n",
    "for name, (mean, std) in results_df2.items():\n",
    "    print(f\"{name}: Mean Accuracy = {mean:.3f} (+/- {std:.3f})\")\n",
    "\n",
    "# 你还可以进一步分析每个模型的混淆矩阵、ROC曲线、AUC等指标import pandas as pd\n",
    "# Import the excel file and call it xls_file\n",
    "df1 = pd.read_csv(\"data1.csv\")\n",
    "df2 = pd.read_csv(\"data2.csv\")\n",
    "\n",
    "with pd.option_context('display.max_rows', None,\n",
    "                       'display.max_columns', None,\n",
    "                       'display.precision', 3,\n",
    "                       ):\n",
    "# 打印更新后的df\n",
    "    print(df1)\n",
    "\n",
    "with pd.option_context('display.max_rows', None,\n",
    "                       'display.max_columns', None,\n",
    "                       'display.precision', 3,\n",
    "                       ):\n",
    "# 打印更新后的df\n",
    "    print(df2)"
   ]
  },
  {
   "cell_type": "markdown",
   "metadata": {},
   "source": [
    "# 为了提高模型训练速度，下面是一个简化版本"
   ]
  },
  {
   "cell_type": "code",
   "execution_count": null,
   "metadata": {},
   "outputs": [],
   "source": [
    "import pandas as pd\n",
    "from sklearn.model_selection import cross_val_score\n",
    "from sklearn.tree import DecisionTreeClassifier\n",
    "from sklearn.neighbors import KNeighborsClassifier\n",
    "from sklearn.feature_selection import SelectKBest, f_classif\n",
    "\n",
    "# 加载数据\n",
    "df1 = pd.read_csv(\"data1.csv\")\n",
    "df2 = pd.read_csv(\"data2.csv\")\n",
    "\n",
    "# 准备数据\n",
    "X1 = df1.loc[:, 'X1':'X24']\n",
    "y1 = df1['Y(1=default, 0=non-default)']\n",
    "X2 = df2.loc[:, 'X1':'X14']\n",
    "y2 = df2['Y(1=default, 0=non-default)']\n",
    "\n",
    "# 特征选择\n",
    "selector = SelectKBest(f_classif, k=10)  # 选择最重要的10个特征\n",
    "X1_selected = selector.fit_transform(X1, y1)\n",
    "X2_selected = selector.fit_transform(X2, y2)\n",
    "\n",
    "# 定义分类器（只使用较快的模型）\n",
    "classifiers = {\n",
    "    'DecisionTree': DecisionTreeClassifier(),\n",
    "    'KNN': KNeighborsClassifier(n_neighbors=5)\n",
    "}\n",
    "\n",
    "# 函数来训练和评估模型\n",
    "def train_and_evaluate_model(X, y, classifier_name, classifier):\n",
    "    scores = cross_val_score(classifier, X, y, cv=3, scoring='accuracy')  # 使用3折交叉验证\n",
    "    return scores.mean(), scores.std()\n",
    "\n",
    "# 评估模型\n",
    "for dataset_name, X, y in [(\"df1\", X1_selected, y1), (\"df2\", X2_selected, y2)]:\n",
    "    print(f\"\\nDataset: {dataset_name}\")\n",
    "    for name, classifier in classifiers.items():\n",
    "        mean_score, std_score = train_and_evaluate_model(X, y, name, classifier)\n",
    "        print(f\"{name}: Mean Accuracy = {mean_score:.3f} (+/- {std_score:.3f})\")"
   ]
  },
  {
   "cell_type": "code",
   "execution_count": null,
   "metadata": {},
   "outputs": [],
   "source": []
  },
  {
   "cell_type": "code",
   "execution_count": null,
   "metadata": {},
   "outputs": [],
   "source": []
  },
  {
   "cell_type": "code",
   "execution_count": null,
   "metadata": {},
   "outputs": [],
   "source": []
  },
  {
   "cell_type": "code",
   "execution_count": null,
   "metadata": {},
   "outputs": [],
   "source": []
  },
  {
   "cell_type": "code",
   "execution_count": null,
   "metadata": {},
   "outputs": [],
   "source": []
  },
  {
   "cell_type": "code",
   "execution_count": null,
   "metadata": {},
   "outputs": [],
   "source": []
  },
  {
   "cell_type": "code",
   "execution_count": null,
   "metadata": {},
   "outputs": [],
   "source": []
  },
  {
   "cell_type": "code",
   "execution_count": null,
   "metadata": {},
   "outputs": [],
   "source": []
  },
  {
   "cell_type": "code",
   "execution_count": null,
   "metadata": {},
   "outputs": [],
   "source": []
  },
  {
   "cell_type": "code",
   "execution_count": null,
   "metadata": {},
   "outputs": [],
   "source": []
  },
  {
   "cell_type": "code",
   "execution_count": null,
   "metadata": {},
   "outputs": [],
   "source": []
  },
  {
   "cell_type": "code",
   "execution_count": null,
   "metadata": {},
   "outputs": [],
   "source": []
  },
  {
   "cell_type": "code",
   "execution_count": null,
   "metadata": {},
   "outputs": [],
   "source": []
  },
  {
   "cell_type": "code",
   "execution_count": null,
   "metadata": {},
   "outputs": [],
   "source": []
  },
  {
   "cell_type": "code",
   "execution_count": null,
   "metadata": {},
   "outputs": [],
   "source": []
  },
  {
   "cell_type": "code",
   "execution_count": null,
   "metadata": {},
   "outputs": [],
   "source": []
  },
  {
   "cell_type": "code",
   "execution_count": null,
   "metadata": {},
   "outputs": [],
   "source": []
  },
  {
   "cell_type": "code",
   "execution_count": null,
   "metadata": {},
   "outputs": [],
   "source": []
  },
  {
   "cell_type": "code",
   "execution_count": null,
   "metadata": {},
   "outputs": [],
   "source": []
  },
  {
   "cell_type": "code",
   "execution_count": null,
   "metadata": {},
   "outputs": [],
   "source": []
  },
  {
   "cell_type": "code",
   "execution_count": null,
   "metadata": {},
   "outputs": [],
   "source": []
  },
  {
   "cell_type": "code",
   "execution_count": null,
   "metadata": {},
   "outputs": [],
   "source": []
  }
 ],
 "metadata": {
  "kernelspec": {
   "display_name": "pyTorchgpuEnv",
   "language": "python",
   "name": "python3"
  },
  "language_info": {
   "codemirror_mode": {
    "name": "ipython",
    "version": 3
   },
   "file_extension": ".py",
   "mimetype": "text/x-python",
   "name": "python",
   "nbconvert_exporter": "python",
   "pygments_lexer": "ipython3",
   "version": "3.11.7"
  }
 },
 "nbformat": 4,
 "nbformat_minor": 2
}
