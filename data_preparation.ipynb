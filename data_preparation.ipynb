{
 "cells": [
  {
   "cell_type": "code",
   "execution_count": 4,
   "metadata": {},
   "outputs": [
    {
     "name": "stdout",
     "output_type": "stream",
     "text": [
      "     X1  X2  X3  X4  X5  X6  X7  X8  X9  X10  ...  X16  X17  X18  X19  X20  \\\n",
      "0     1   6   4  12   5   5   3   4   1   67  ...    0    0    1    0    0   \n",
      "1     2  48   2  60   1   3   2   2   1   22  ...    0    0    1    0    0   \n",
      "2     4  12   4  21   1   4   3   3   1   49  ...    0    0    1    0    0   \n",
      "3     1  42   2  79   1   4   3   4   2   45  ...    0    0    0    0    0   \n",
      "4     1  24   3  49   1   3   3   4   4   53  ...    1    0    1    0    0   \n",
      "..   ..  ..  ..  ..  ..  ..  ..  ..  ..  ...  ...  ...  ...  ...  ...  ...   \n",
      "995   4  12   2  17   1   4   2   4   1   31  ...    0    0    1    0    0   \n",
      "996   1  30   2  39   1   3   1   4   2   40  ...    0    1    1    0    0   \n",
      "997   4  12   2   8   1   5   3   4   3   38  ...    0    0    1    0    0   \n",
      "998   1  45   2  18   1   3   3   4   4   23  ...    0    0    1    0    0   \n",
      "999   2  45   4  46   2   1   3   4   3   27  ...    0    1    1    0    0   \n",
      "\n",
      "     X21  X22  X23  X24  Y(1=default, 0=non-default)  \n",
      "0      1    0    0    1                            0  \n",
      "1      1    0    0    1                            1  \n",
      "2      1    0    1    0                            0  \n",
      "3      0    0    0    1                            0  \n",
      "4      0    0    0    1                            1  \n",
      "..   ...  ...  ...  ...                          ...  \n",
      "995    1    0    1    0                            0  \n",
      "996    1    0    0    0                            0  \n",
      "997    1    0    0    1                            0  \n",
      "998    0    0    0    1                            1  \n",
      "999    1    0    0    1                            0  \n",
      "\n",
      "[1000 rows x 25 columns]\n"
     ]
    }
   ],
   "source": [
    "import pandas as pd\n",
    "# Import the excel file and call it xls_file\n",
    "excel_file = pd.read_csv(\"C:/Users/lenovo/Desktop/CUMCM/CCC/data1.csv\")\n",
    "\n",
    "# Load the excel_file's Sheet1 as a dataframe\n",
    "df1 = excel_file\n",
    "print(df1)"
   ]
  }
 ],
 "metadata": {
  "kernelspec": {
   "display_name": "pyTorchgpuEnv",
   "language": "python",
   "name": "python3"
  },
  "language_info": {
   "codemirror_mode": {
    "name": "ipython",
    "version": 3
   },
   "file_extension": ".py",
   "mimetype": "text/x-python",
   "name": "python",
   "nbconvert_exporter": "python",
   "pygments_lexer": "ipython3",
   "version": "3.11.7"
  }
 },
 "nbformat": 4,
 "nbformat_minor": 2
}
